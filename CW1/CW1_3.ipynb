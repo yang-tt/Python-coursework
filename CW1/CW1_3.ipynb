{
 "cells": [
  {
   "cell_type": "code",
   "execution_count": 1,
   "metadata": {},
   "outputs": [
    {
     "name": "stdout",
     "output_type": "stream",
     "text": [
      "Chicken: 15\n",
      "Rabbit: 15\n"
     ]
    }
   ],
   "source": [
    "for chicken in range (0,30):   #鸡数\n",
    "    rabbit = 30 - chicken   #兔数\n",
    "    chicken_leg = chicken * 2   #鸡腿数\n",
    "    rabbit_leg = rabbit * 4   #兔腿数\n",
    "    if(chicken_leg + rabbit_leg == 90):   #鸡腿加兔腿等于90\n",
    "        print(\"Chicken: %d\" %chicken)\n",
    "        print(\"Rabbit: %d\" %rabbit)"
   ]
  },
  {
   "cell_type": "code",
   "execution_count": null,
   "metadata": {},
   "outputs": [],
   "source": []
  }
 ],
 "metadata": {
  "kernelspec": {
   "display_name": "Python 3",
   "language": "python",
   "name": "python3"
  },
  "language_info": {
   "codemirror_mode": {
    "name": "ipython",
    "version": 3
   },
   "file_extension": ".py",
   "mimetype": "text/x-python",
   "name": "python",
   "nbconvert_exporter": "python",
   "pygments_lexer": "ipython3",
   "version": "3.7.1"
  }
 },
 "nbformat": 4,
 "nbformat_minor": 2
}
