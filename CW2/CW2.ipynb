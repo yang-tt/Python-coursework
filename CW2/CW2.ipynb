{
 "cells": [
  {
   "cell_type": "code",
   "execution_count": null,
   "metadata": {},
   "outputs": [],
   "source": [
    "import turtle\n",
    "\n",
    "def draw_brach(brach_length):\n",
    "    if brach_length > 5:\n",
    "        if brach_length < 40:\n",
    "            turtle.color('green')\n",
    "        else:\n",
    "            turtle.color('red')\n",
    "\n",
    "        # 绘制右侧的树枝\n",
    "        turtle.forward(brach_length)\n",
    "        turtle.right(25)\n",
    "        draw_brach(brach_length-15)\n",
    "        \n",
    "        # 绘制左侧的树枝\n",
    "        turtle.left(50)\n",
    "        draw_brach(brach_length-15)\n",
    "\n",
    "        if brach_length < 40:\n",
    "            turtle.color('green')\n",
    "        else:\n",
    "            turtle.color('red')\n",
    "\n",
    "        # 返回之前的树枝\n",
    "        turtle.right(25)\n",
    "        turtle.backward(brach_length)\n",
    "\n",
    "def main():\n",
    "    turtle.left(90)\n",
    "    turtle.penup()\n",
    "    turtle.backward(150)\n",
    "    turtle.pendown()\n",
    "    turtle.color('red')\n",
    "\n",
    "    draw_brach(100)\n",
    "\n",
    "    turtle.exitonclick()\n",
    "\n",
    "if __name__ == '__main__':\n",
    "    main()\n"
   ]
  },
  {
   "cell_type": "code",
   "execution_count": null,
   "metadata": {},
   "outputs": [],
   "source": []
  },
  {
   "cell_type": "code",
   "execution_count": null,
   "metadata": {},
   "outputs": [],
   "source": []
  },
  {
   "cell_type": "code",
   "execution_count": null,
   "metadata": {},
   "outputs": [],
   "source": []
  },
  {
   "cell_type": "code",
   "execution_count": null,
   "metadata": {},
   "outputs": [],
   "source": []
  }
 ],
 "metadata": {
  "kernelspec": {
   "display_name": "Python 3",
   "language": "python",
   "name": "python3"
  },
  "language_info": {
   "codemirror_mode": {
    "name": "ipython",
    "version": 3
   },
   "file_extension": ".py",
   "mimetype": "text/x-python",
   "name": "python",
   "nbconvert_exporter": "python",
   "pygments_lexer": "ipython3",
   "version": "3.7.1"
  }
 },
 "nbformat": 4,
 "nbformat_minor": 2
}
